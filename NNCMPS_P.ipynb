{
 "cells": [
  {
   "cell_type": "code",
   "execution_count": 377,
   "metadata": {
    "id": "3wHovu8z53z3"
   },
   "outputs": [],
   "source": [
    "'''Gameplan:\n",
    "Imports @done, add as needed, though\n",
    "Create NN\n",
    "Parameters (learning rate, etc) @set?\n",
    "Initialize Data @done?\n",
    "Load Data  @done?\n",
    "Normalize Data  @done\n",
    "Initialization @done?\n",
    "Loss Function @is that really all we need to do? \n",
    "Optimizer @doesnt exist\n",
    "Training\n",
    "Check Accuracy\n",
    "'''\n",
    "#imports\n",
    "import numpy as np\n",
    "import math\n",
    "import pandas as pd\n",
    "import torch #pytorch\n",
    "import torch.nn as nn #nn shiz and loss functions\n",
    "import torch.optim as optim #optimization things\n",
    "import torch.nn.functional as F #activation functions are here\n",
    "from torch.utils.data import Dataset, DataLoader #Make minibatches and things like that\n",
    "import torchvision.datasets as datasets #standard datasets?\n",
    "import torchvision.transforms as transforms #transformations on dataset\n",
    "\n",
    "\n",
    "class BinaryDataset(Dataset):\n",
    "    def __init__(self, input_array, target_array):\n",
    "        self.input_array = input_array\n",
    "        self.target_array = target_array\n",
    "\n",
    "    def __len__(self):\n",
    "        return len(self.input_array)\n",
    "\n",
    "    def __getitem__(self, idx):\n",
    "        x = torch.tensor(self.input_array[idx], dtype=torch.float)\n",
    "        y = torch.tensor(self.target_array[idx], dtype=torch.float)\n",
    "        return x, y\n",
    "\n",
    "#Create NN\n",
    "class NeuralNetwork(nn.Module):\n",
    "    def __init__(self):\n",
    "        super(NeuralNetwork, self).__init__()\n",
    "        self.flatten = nn.Flatten()\n",
    "        self.linear_relu_stack = nn.Sequential(\n",
    "        nn.Linear(7,14),\n",
    "        nn.ReLU(),\n",
    "        nn.Linear(14,21),\n",
    "        nn.ReLU(),\n",
    "        nn.Linear(21,42),\n",
    "        nn.ReLU(),\n",
    "        nn.Linear(42,21),\n",
    "        nn.ReLU(),\n",
    "        nn.Linear(21,1),\n",
    "        #nn.Sigmoid(),\n",
    "    )\n",
    "    def forward(self, x):\n",
    "        output = self.linear_relu_stack(x)     \n",
    "        return torch.sigmoid(output) # changed this from nn.functional since that sigmoid is deprecated"
   ]
  },
  {
   "cell_type": "code",
   "execution_count": 378,
   "metadata": {},
   "outputs": [],
   "source": [
    "#hyperparameters\n",
    "learning_rate = 0.5\n",
    "momentum = 0.5\n",
    "batchSize = 2000\n",
    "num_epochs = 5"
   ]
  },
  {
   "cell_type": "code",
   "execution_count": 379,
   "metadata": {
    "id": "2Y1l4MfB59el"
   },
   "outputs": [],
   "source": [
    "#initialize data, get rid of unwanted data\n",
    "def readCSV(filename):\n",
    "    df=pd.read_csv(filename, names = ['index','phi1','phi2','eta1','eta2','diphi','deta','deltaR','genweight','recoweight'])\n",
    "    data = df.copy()\n",
    "    #taking out columns we don't need\n",
    "    data.drop(columns='index',inplace=True)\n",
    "    data.drop(columns='genweight',inplace=True)\n",
    "    data.drop(columns='recoweight',inplace=True)\n",
    "    return data"
   ]
  },
  {
   "cell_type": "code",
   "execution_count": 380,
   "metadata": {
    "colab": {
     "base_uri": "https://localhost:8080/",
     "height": 390
    },
    "id": "j5zOr49s6EhH",
    "outputId": "56e7a014-9ac0-4282-e921-09e71ad7b286"
   },
   "outputs": [],
   "source": [
    "df = readCSV('SUSY.txt') #replace with path\n",
    "df2 = readCSV('ttbarsignalplustau_mainSignal.txt') #replace with path\n",
    "#df = df[:5] #disregard, for troubleshooting\n",
    "#df2 = df2[:5] #disregard\n",
    "df2 = df2[:6760]#make df and df2 same size"
   ]
  },
  {
   "cell_type": "code",
   "execution_count": 381,
   "metadata": {
    "id": "h9hnf_J26UaJ"
   },
   "outputs": [],
   "source": [
    "#normalize\n",
    "def normalize(data):\n",
    "    data['phi1'] = data['phi1']/math.pi\n",
    "    data['phi2'] = data['phi2']/math.pi\n",
    "    data['eta1'] = data['eta1']/data['eta1'].abs().max() #now the max value will be plus/minus 1\n",
    "    data['eta2'] = data['eta2']/data['eta2'].abs().max()\n",
    "    data['diphi'] = data['diphi']/data['diphi'].abs().max()\n",
    "    data['deta'] = data['deta']/data['deta'].abs().max()\n",
    "    data['deltaR'] = data['deltaR']/data['deltaR'].abs().max()\n",
    "    return data"
   ]
  },
  {
   "cell_type": "code",
   "execution_count": 391,
   "metadata": {
    "colab": {
     "base_uri": "https://localhost:8080/",
     "height": 443
    },
    "id": "49fWAOBc6b7V",
    "outputId": "f6f9b61d-7964-4133-8689-1542850c6152"
   },
   "outputs": [],
   "source": [
    "df = normalize(df)\n",
    "df2 = normalize(df2)\n",
    "\n",
    "#identifier = [0] * 5#for troubleshooting, disregard\n",
    "identifier = [0] * 6760\n",
    "identifier2 = [1] * 6760\n",
    "df['identifier'] = identifier2\n",
    "df2['identifier'] = identifier #adds an extra column (identifier) to df and df2\n",
    "\n",
    "#more data initialization\n",
    "frames = [df,df2]\n",
    "#print('\\n\\nframes:',frames)\n",
    "wholedata = pd.concat(frames)\n",
    "#print('\\n\\nwholedata:',wholedata)\n",
    "wholedata = wholedata.to_numpy()\n",
    "#print('\\n\\nwholedata:',wholedata)\n",
    "np.random.shuffle(wholedata)\n",
    "#print('--------\\n',wholedata)\n",
    "\n",
    "trainx=wholedata[:(round(0.8*len(wholedata[:,2])))]\n",
    "testx=wholedata[:(round(0.2*len(wholedata[:,2])))]\n",
    "\n",
    "phi1x,phi2x,eta1x,eta2x,dihpix,detax,deltaRx,identifierx=np.hsplit(trainx,8)\n",
    "phi1y,phi2y,eta1y,eta2y,dihpiy,detay,deltaRy,identifiery=np.hsplit(testx,8)\n",
    "\n",
    "trainX=np.concatenate((phi1x,phi2x,eta1x,eta2x,dihpix,detax,deltaRx),axis=1)\n",
    "trainY=identifierx\n",
    "testX=np.concatenate((phi1y,phi2y,eta1y,eta2y,dihpiy,detay,deltaRy),axis=1)\n",
    "testY=identifiery"
   ]
  },
  {
   "cell_type": "code",
   "execution_count": 383,
   "metadata": {
    "colab": {
     "base_uri": "https://localhost:8080/",
     "height": 240
    },
    "id": "s6XUAArbJwk_",
    "outputId": "2c796597-8a1f-49b7-d524-8077dd9d50a2"
   },
   "outputs": [],
   "source": [
    "#Load data\n",
    "train_dataset = BinaryDataset(trainX.astype(np.single),trainY.astype(np.single))\n",
    "test_dataset = BinaryDataset(testX,testY)\n",
    "#print(train_dataset.printarray().shape)\n",
    "train_dataloader = DataLoader(train_dataset, batch_size=batchSize, shuffle = True)\n",
    "test_dataloader = DataLoader(test_dataset, batch_size=batchSize, shuffle = False)"
   ]
  },
  {
   "cell_type": "code",
   "execution_count": 384,
   "metadata": {
    "colab": {
     "base_uri": "https://localhost:8080/"
    },
    "id": "QNdJg9766z-d",
    "outputId": "bc9f229d-9ed6-4226-8c9e-ed6eb4e35bc9"
   },
   "outputs": [],
   "source": [
    "#initialize NN\n",
    "device = \"cuda\" if torch.cuda.is_available() else \"cpu\"\n",
    "model = NeuralNetwork().to(device)"
   ]
  },
  {
   "cell_type": "code",
   "execution_count": 385,
   "metadata": {
    "id": "oG3lxZ1QF18l"
   },
   "outputs": [],
   "source": [
    "#Loss function \n",
    "loss_fn = nn.BCELoss()\n",
    "#optimizer trial 5:20 pm \n",
    "optimizer = torch.optim.SGD(model.parameters(), lr=learning_rate)#,momentum=momentum) # the learning algorithm"
   ]
  },
  {
   "cell_type": "code",
   "execution_count": 386,
   "metadata": {
    "id": "Iuvvfl1S_N01"
   },
   "outputs": [],
   "source": [
    "# train that \n",
    "def train_epoch(dataloader, model, loss_fn):\n",
    "    model.train()\n",
    "    correct = 0\n",
    "    train_losses = []\n",
    "    oldmod = list(model.parameters())\n",
    "    for batch_idx, (X, y) in enumerate(dataloader):\n",
    "        X, y = X.to(device), y.to(device)\n",
    "        \n",
    "        optimizer.zero_grad()\n",
    "        pred = model(X)\n",
    "        loss = loss_fn(pred, y)\n",
    "\n",
    "        loss.backward()\n",
    "        optimizer.step()\n",
    "                \n",
    "        train_losses.append(loss.item())\n",
    "        correct += (((torch.sigmoid(pred) > 0.5) * 1.0) == y).sum()\n",
    "        \n",
    "    print(f\"train correct: {correct}\")\n",
    "    print(f\"Train Accuracy: {correct/len(dataloader.dataset)}\")\n",
    "    print(f\"Model update?: {oldmod!=list(model.parameters())}\")\n",
    "    return train_losses\n",
    "\n",
    "def test_epoch(dataloader, model, loss_fn):\n",
    "    model.eval()\n",
    "    test_loss, correct = 0, 0\n",
    "    with torch.no_grad():\n",
    "        for X, y in dataloader:\n",
    "            X, y = X.to(device), y.to(device)\n",
    "            pred = model(X)\n",
    "            test_loss += loss_fn(pred, y).item()\n",
    "            correct += (((torch.sigmoid(pred) > 0.5) * 1.0) == y).sum()\n",
    "    print(f\"correct: {correct} length: {len(dataloader.dataset)}\")\n",
    "    print(f\"Test Avg Loss: {test_loss/len(dataloader)}, Test Accuracy: {correct/len(dataloader.dataset)}\")\n",
    "    return test_loss/len(dataloader)"
   ]
  },
  {
   "cell_type": "code",
   "execution_count": 387,
   "metadata": {
    "colab": {
     "base_uri": "https://localhost:8080/",
     "height": 258
    },
    "id": "9JhmgVTWI7PW",
    "outputId": "f7ce3437-e45c-4d63-c20f-9377b026753d"
   },
   "outputs": [
    {
     "name": "stdout",
     "output_type": "stream",
     "text": [
      "Epoch Nr. 1 -----------------------\n",
      "train correct: 5390\n",
      "Train Accuracy: 0.4983358085155487\n",
      "Model update?: False\n",
      "correct: 1322 length: 2704\n",
      "Test Avg Loss: 0.6928925514221191, Test Accuracy: 0.48890531063079834\n",
      "\n",
      "Epoch Nr. 2 -----------------------\n",
      "train correct: 5390\n",
      "Train Accuracy: 0.4983358085155487\n",
      "Model update?: False\n",
      "correct: 1322 length: 2704\n",
      "Test Avg Loss: 0.6929479241371155, Test Accuracy: 0.48890531063079834\n",
      "\n",
      "Epoch Nr. 3 -----------------------\n",
      "train correct: 5390\n",
      "Train Accuracy: 0.4983358085155487\n",
      "Model update?: False\n",
      "correct: 1322 length: 2704\n",
      "Test Avg Loss: 0.6929627060890198, Test Accuracy: 0.48890531063079834\n",
      "\n",
      "Epoch Nr. 4 -----------------------\n",
      "train correct: 5390\n",
      "Train Accuracy: 0.4983358085155487\n",
      "Model update?: False\n",
      "correct: 1322 length: 2704\n",
      "Test Avg Loss: 0.6931074261665344, Test Accuracy: 0.48890531063079834\n",
      "\n",
      "Epoch Nr. 5 -----------------------\n",
      "train correct: 5390\n",
      "Train Accuracy: 0.4983358085155487\n",
      "Model update?: False\n",
      "correct: 1322 length: 2704\n",
      "Test Avg Loss: 0.693007618188858, Test Accuracy: 0.48890531063079834\n",
      "\n"
     ]
    }
   ],
   "source": [
    "#Train network\n",
    "train_losses = []\n",
    "test_losses = []\n",
    "\n",
    "for n in range(num_epochs):\n",
    "    print(f\"Epoch Nr. {n+1} -----------------------\")\n",
    "    train_losses += train_epoch(train_dataloader, model, loss_fn)\n",
    "    test_losses.append(test_epoch(test_dataloader, model, loss_fn))\n",
    "    print(\"\")"
   ]
  },
  {
   "cell_type": "code",
   "execution_count": 388,
   "metadata": {
    "id": "oPeWelfxtQHq"
   },
   "outputs": [
    {
     "data": {
      "text/plain": [
       "30"
      ]
     },
     "execution_count": 388,
     "metadata": {},
     "output_type": "execute_result"
    }
   ],
   "source": [
    "len(train_losses)"
   ]
  },
  {
   "cell_type": "code",
   "execution_count": 389,
   "metadata": {},
   "outputs": [
    {
     "data": {
      "text/plain": [
       "[<matplotlib.lines.Line2D at 0x2e4b2a683a0>]"
      ]
     },
     "execution_count": 389,
     "metadata": {},
     "output_type": "execute_result"
    },
    {
     "data": {
      "image/png": "[encoded data removed]",
      "text/plain": [
       "<Figure size 640x480 with 1 Axes>"
      ]
     },
     "metadata": {},
     "output_type": "display_data"
    }
   ],
   "source": [
    "import matplotlib.pyplot as plt\n",
    "plt.plot(train_losses)"
   ]
  },
  {
   "cell_type": "code",
   "execution_count": 390,
   "metadata": {},
   "outputs": [
    {
     "data": {
      "text/plain": [
       "True"
      ]
     },
     "execution_count": 390,
     "metadata": {},
     "output_type": "execute_result"
    }
   ],
   "source": [
    "list(model.parameters())[0].grad is not None"
   ]
  },
  {
   "cell_type": "code",
   "execution_count": null,
   "metadata": {},
   "outputs": [],
   "source": []
  }
 ],
 "metadata": {
  "colab": {
   "collapsed_sections": [],
   "provenance": []
  },
  "kernelspec": {
   "display_name": "Python 3 (ipykernel)",
   "language": "python",
   "name": "python3"
  },
  "language_info": {
   "codemirror_mode": {
    "name": "ipython",
    "version": 3
   },
   "file_extension": ".py",
   "mimetype": "text/x-python",
   "name": "python",
   "nbconvert_exporter": "python",
   "pygments_lexer": "ipython3",
   "version": "3.10.4"
  }
 },
 "nbformat": 4,
 "nbformat_minor": 4
}
