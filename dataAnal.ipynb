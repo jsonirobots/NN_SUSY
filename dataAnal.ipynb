{
 "cells": [
  {
   "cell_type": "code",
   "execution_count": 1,
   "id": "d6212e22-fc77-49a4-9739-219cacef79cd",
   "metadata": {},
   "outputs": [],
   "source": [
    "import numpy as np\n",
    "import matplotlib.pyplot as plt"
   ]
  },
  {
   "cell_type": "code",
   "execution_count": 2,
   "id": "4c600683-89af-4dab-bd29-ad5d94dc1ca9",
   "metadata": {},
   "outputs": [],
   "source": [
    "data_susy = np.genfromtxt('SUSY.txt',delimiter=',')\n",
    "data_sm = np.genfromtxt('ttbarsignalplustau_mainSignal.txt',delimiter=',')"
   ]
  },
  {
   "cell_type": "code",
   "execution_count": 3,
   "id": "9dd9d7d5-fd69-41a3-a278-089d95dc478c",
   "metadata": {},
   "outputs": [],
   "source": [
    "import torch.nn as nn"
   ]
  },
  {
   "cell_type": "code",
   "execution_count": 4,
   "id": "5086b60a-cada-4b71-a513-11df3b7627c1",
   "metadata": {},
   "outputs": [
    {
     "data": {
      "text/plain": [
       "<function torch.nn.functional.sigmoid(input)>"
      ]
     },
     "execution_count": 4,
     "metadata": {},
     "output_type": "execute_result"
    }
   ],
   "source": [
    "nn.functional.sigmoid"
   ]
  },
  {
   "cell_type": "code",
   "execution_count": 5,
   "id": "e13f1146-c83c-4b3f-8141-f92c5328a3f2",
   "metadata": {},
   "outputs": [
    {
     "data": {
      "text/plain": [
       "(18029, 10)"
      ]
     },
     "execution_count": 5,
     "metadata": {},
     "output_type": "execute_result"
    }
   ],
   "source": [
    "data_susy.shape\n",
    "data_sm.shape"
   ]
  },
  {
   "cell_type": "code",
   "execution_count": 6,
   "id": "503c7319-a977-4a1f-ae4c-ea056fa234fc",
   "metadata": {},
   "outputs": [],
   "source": [
    "data_susy = np.delete(data_susy,np.s_[-2:],1)\n",
    "data_susy = np.delete(data_susy,0,1)\n",
    "data_sm = np.delete(data_sm,np.s_[-2:],1)\n",
    "data_sm = np.delete(data_sm,0,1)"
   ]
  },
  {
   "cell_type": "code",
   "execution_count": 7,
   "id": "a14dfc6a-adf4-42d8-90cf-34f318f297d1",
   "metadata": {},
   "outputs": [
    {
     "data": {
      "text/plain": [
       "(18029,)"
      ]
     },
     "execution_count": 7,
     "metadata": {},
     "output_type": "execute_result"
    }
   ],
   "source": [
    "data_sm[:,0].shape"
   ]
  },
  {
   "cell_type": "code",
   "execution_count": 8,
   "id": "e95839e8-3573-40e2-b598-895554628ce8",
   "metadata": {},
   "outputs": [],
   "source": [
    "susylen = data_susy.shape[0]"
   ]
  },
  {
   "cell_type": "code",
   "execution_count": 9,
   "id": "7e722d4d-b8e7-4613-b6c6-f855741f565a",
   "metadata": {},
   "outputs": [],
   "source": [
    "x = data_susy - data_sm[0:susylen,:]"
   ]
  },
  {
   "cell_type": "code",
   "execution_count": 16,
   "id": "0e55926a-4e9e-4762-8e66-fe35349d3c10",
   "metadata": {},
   "outputs": [
    {
     "data": {
      "text/plain": [
       "(array([[ 126.,  428.,  666.,  866., 1235., 1276.,  953.,  638.,  438.,\n",
       "          134.],\n",
       "        [   0.,    0.,    0.,  724., 2652., 2668.,  716.,    0.,    0.,\n",
       "            0.],\n",
       "        [ 144.,  418.,  704.,  984., 1228., 1193.,  926.,  629.,  398.,\n",
       "          136.],\n",
       "        [   0.,    0.,    0.,  827., 2708., 2548.,  677.,    0.,    0.,\n",
       "            0.],\n",
       "        [ 174.,  446.,  685.,  898., 1137., 1232.,  884.,  709.,  435.,\n",
       "          160.],\n",
       "        [   0.,   11.,  220., 1107., 2124., 2106.,  988.,  196.,    8.,\n",
       "            0.],\n",
       "        [   0.,    5.,  195.,  941., 2186., 2186., 1024.,  217.,    6.,\n",
       "            0.]]),\n",
       " array([-6.250920e+00, -5.001589e+00, -3.752258e+00, -2.502927e+00,\n",
       "        -1.253596e+00, -4.265000e-03,  1.245066e+00,  2.494397e+00,\n",
       "         3.743728e+00,  4.993059e+00,  6.242390e+00]),\n",
       " <a list of 7 BarContainer objects>)"
      ]
     },
     "execution_count": 16,
     "metadata": {},
     "output_type": "execute_result"
    },
    {
     "data": {
      "image/png": "[encoded data removed]",
      "text/plain": [
       "<Figure size 640x480 with 1 Axes>"
      ]
     },
     "metadata": {},
     "output_type": "display_data"
    }
   ],
   "source": [
    "plt.hist(x)"
   ]
  },
  {
   "cell_type": "code",
   "execution_count": null,
   "id": "23f0a716-ff35-4a5f-a07e-274b2f5fdd53",
   "metadata": {},
   "outputs": [],
   "source": []
  }
 ],
 "metadata": {
  "kernelspec": {
   "display_name": "Python 3 (ipykernel)",
   "language": "python",
   "name": "python3"
  },
  "language_info": {
   "codemirror_mode": {
    "name": "ipython",
    "version": 3
   },
   "file_extension": ".py",
   "mimetype": "text/x-python",
   "name": "python",
   "nbconvert_exporter": "python",
   "pygments_lexer": "ipython3",
   "version": "3.10.4"
  }
 },
 "nbformat": 4,
 "nbformat_minor": 5
}
