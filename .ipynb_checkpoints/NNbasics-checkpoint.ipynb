{
 "cells": [
  {
   "cell_type": "code",
   "execution_count": 1,
   "id": "e91bccc4-7c52-4f5a-ac04-22cb22c33916",
   "metadata": {},
   "outputs": [],
   "source": [
    "import torch\n",
    "import numpy as np\n",
    "import torch.nn as nn\n",
    "import torch.nn.functional as F\n",
    "from torch.utils.data import Dataset, DataLoader"
   ]
  },
  {
   "cell_type": "code",
   "execution_count": 2,
   "id": "8e24048b-b0b3-448b-9784-d7e6d27227d9",
   "metadata": {},
   "outputs": [],
   "source": [
    "import matplotlib.pyplot as plt"
   ]
  },
  {
   "cell_type": "code",
   "execution_count": 3,
   "id": "362dc396-c1a7-421b-a24b-67df17a99b6b",
   "metadata": {},
   "outputs": [],
   "source": [
    "import sympy"
   ]
  },
  {
   "cell_type": "code",
   "execution_count": 4,
   "id": "568f0b19-a3a0-4f11-8519-cb4b34db52f8",
   "metadata": {},
   "outputs": [],
   "source": [
    "t,v_0x,v_0y = sympy.symbols('t,v_0x,v_0y')\n",
    "g = -9.81"
   ]
  },
  {
   "cell_type": "code",
   "execution_count": 5,
   "id": "c8b94871-8fec-4525-bb12-e0b96466f8cb",
   "metadata": {},
   "outputs": [],
   "source": [
    "ax = 0*t\n",
    "ay = g\n",
    "v0y = 13\n",
    "v0x = 50\n",
    "vy = sympy.integrate(ay,t) + v_0y\n",
    "vx = sympy.integrate(ax,t) + v_0x"
   ]
  },
  {
   "cell_type": "code",
   "execution_count": 6,
   "id": "d4b5f683-fe44-42f8-86a7-15ff7fa7371d",
   "metadata": {},
   "outputs": [],
   "source": [
    "sx = sympy.integrate(vx,t)\n",
    "sy = sympy.integrate(vy,t)"
   ]
  },
  {
   "cell_type": "code",
   "execution_count": 7,
   "id": "4ec65091-d8d7-4b50-9154-5f9cb566f970",
   "metadata": {},
   "outputs": [],
   "source": [
    "sxplt = sx.subs(v_0x,v0x).subs(v_0y,v0y)\n",
    "syplt = sy.subs(v_0x,v0x).subs(v_0y,v0y)\n",
    "tmax = sympy.solve(syplt)[1]"
   ]
  },
  {
   "cell_type": "code",
   "execution_count": 8,
   "id": "7c174878-e1a7-49cf-9b61-5815be19a8f9",
   "metadata": {},
   "outputs": [],
   "source": [
    "wallx = 100\n",
    "wally = t/tmax * 6"
   ]
  },
  {
   "cell_type": "code",
   "execution_count": 9,
   "id": "221d90ed-0d2c-4b9a-a311-bb75c9073213",
   "metadata": {},
   "outputs": [
    {
     "data": {
      "image/png": "[encoded data removed]",
      "text/plain": [
       "<Figure size 640x480 with 1 Axes>"
      ]
     },
     "metadata": {},
     "output_type": "display_data"
    },
    {
     "data": {
      "text/plain": [
       "<sympy.plotting.plot.Plot at 0x1202ec9eda0>"
      ]
     },
     "execution_count": 9,
     "metadata": {},
     "output_type": "execute_result"
    }
   ],
   "source": [
    "sympy.plot_parametric((sxplt,syplt),(wallx,wally),(t,0,tmax))"
   ]
  },
  {
   "cell_type": "code",
   "execution_count": 15,
   "id": "30c40d9e-b5e6-4451-815c-85f00eb7e84c",
   "metadata": {},
   "outputs": [],
   "source": [
    "filename = 'projectile_data.txt' \n",
    "with open(filename,'w') as f:\n",
    "    for vs in range(1,50):\n",
    "        sx_spec = sx.subs(v_0x,vs).subs(v_0y,vs)\n",
    "        sy_spec = sy.subs(v_0x,vs).subs(v_0y,vs)\n",
    "        t_wall = sympy.solve(sympy.Eq(sx_spec,100),t)[0]     \n",
    "        y_wall = sy_spec.subs(t,t_wall)\n",
    "        thru = 0\n",
    "        if y_wall-6 >0: thru=1\n",
    "        f.write(str(vs)+\",\"+str(vs)+\",\"+str(thru)+\"\\n\")"
   ]
  },
  {
   "cell_type": "code",
   "execution_count": 16,
   "id": "234ce3b3-1bac-4a54-95db-e064c486a15f",
   "metadata": {},
   "outputs": [],
   "source": [
    "x1,x2,y=[],[],[]\n",
    "with open(filename,'r') as f:\n",
    "    for line in f:\n",
    "        x1.append(int(line.split(\",\")[0]))\n",
    "        x2.append(int(line.split(\",\")[1]))\n",
    "        y.append(int(line.split(\",\")[2]))"
   ]
  },
  {
   "cell_type": "code",
   "execution_count": 116,
   "id": "d0bd1bca-0cdd-45d2-8fe8-c5f116475a52",
   "metadata": {},
   "outputs": [],
   "source": [
    "X1_train = torch.tensor(x1[:round(len(x1)*0.8)])\n",
    "X2_train = torch.tensor(x2[:round(len(x2)*0.8)])\n",
    "y_train = torch.tensor(y[:round(len(y)*0.8)])\n",
    "X1_test = torch.tensor(x1[round(len(x1)*0.8):])\n",
    "X2_test = torch.tensor(x2[round(len(x2)*0.8):])\n",
    "y_test = torch.tensor(y[round(len(x)*0.8):])"
   ]
  },
  {
   "cell_type": "code",
   "execution_count": 117,
   "id": "68937c08-0649-43d2-a339-0f0bb8c81d21",
   "metadata": {},
   "outputs": [],
   "source": [
    "X_train = torch.stack((X1_train,X2_train))\n",
    "X_test = torch.stack((X1_test,X2_test))"
   ]
  },
  {
   "cell_type": "code",
   "execution_count": 46,
   "id": "4fc895bd-0e2c-4273-bf38-1f4658f7c7eb",
   "metadata": {},
   "outputs": [
    {
     "data": {
      "text/plain": [
       "torch.Size([2, 39])"
      ]
     },
     "execution_count": 46,
     "metadata": {},
     "output_type": "execute_result"
    }
   ],
   "source": [
    "X_train.shape"
   ]
  },
  {
   "cell_type": "code",
   "execution_count": 118,
   "id": "2b515225-6151-4bb9-b920-05994b55c2ad",
   "metadata": {},
   "outputs": [],
   "source": [
    "am = X_train.max()\n",
    "X_train = X_train/X_train.max()"
   ]
  },
  {
   "cell_type": "code",
   "execution_count": 82,
   "id": "130a0049-8702-431d-b722-025217997971",
   "metadata": {},
   "outputs": [],
   "source": [
    "device = \"cuda\" if torch.cuda.is_available() else \"cpu\""
   ]
  },
  {
   "cell_type": "code",
   "execution_count": 83,
   "id": "8c9e8ad4-1f0d-4150-bb45-bb1d9f731b60",
   "metadata": {},
   "outputs": [],
   "source": [
    "model = nn.Sequential(\n",
    "    nn.Linear(2, 3), # the weight matrix, mapping a 2D input to a 2 neuron hidden layer\n",
    "    #nn.LeakyReLU(0.01), # apply non-linearity after weight matrix\n",
    "    nn.Linear(3, 1), # another weight matrix, mapping from 2 hidden neurons to 1D output neuron/layer\n",
    "    nn.Sigmoid() # pass output through sigmoid to get predictions in terms of 0/1\n",
    "    )"
   ]
  },
  {
   "cell_type": "code",
   "execution_count": 85,
   "id": "478591c6-290f-4955-b139-51d4cfd38916",
   "metadata": {},
   "outputs": [],
   "source": [
    "np.random.shuffle(X_train.numpy())\n",
    "o = model(X_train.transpose(0,1).float())"
   ]
  },
  {
   "cell_type": "code",
   "execution_count": 89,
   "id": "c93795aa-452a-4ab0-aaf8-7a8092ca021b",
   "metadata": {},
   "outputs": [],
   "source": [
    "xt = X_train.numpy()"
   ]
  },
  {
   "cell_type": "code",
   "execution_count": 96,
   "id": "02f06ff0-7867-4929-b82c-0b61488f6f65",
   "metadata": {},
   "outputs": [],
   "source": [
    "weights = [0.4,0.5,0.6]\n",
    "def model(x1,x2,weights):\n",
    "    a = x1*weights[0] + x2*weights[0]\n",
    "    b = x1*weights[1] + x2*weights[1]\n",
    "    c = x1*weights[2] + x2*weights[2]\n",
    "    out = a+b+c\n",
    "    return out/out.max() "
   ]
  },
  {
   "cell_type": "code",
   "execution_count": 106,
   "id": "335bfbaf-59fc-4c57-994e-fcb00344e65a",
   "metadata": {},
   "outputs": [],
   "source": [
    "def classify(probs):\n",
    "    return (probs>0.5).astype(int)"
   ]
  },
  {
   "cell_type": "code",
   "execution_count": 107,
   "id": "782f2db2-d1c4-4199-95d1-f5c0d186a0be",
   "metadata": {},
   "outputs": [
    {
     "data": {
      "text/plain": [
       "array([0, 0, 0, 0, 0, 0, 0, 0, 0, 0, 0, 0, 0, 0, 0, 0, 0, 0, 0, 1, 1, 1,\n",
       "       1, 1, 1, 1, 1, 1, 1, 1, 1, 1, 1, 1, 1, 1, 1, 1, 1])"
      ]
     },
     "execution_count": 107,
     "metadata": {},
     "output_type": "execute_result"
    }
   ],
   "source": [
    "classify(model(xt[0],xt[1],weights))"
   ]
  },
  {
   "cell_type": "code",
   "execution_count": 120,
   "id": "8d47e838-de49-4e85-b701-598f928ef84b",
   "metadata": {},
   "outputs": [
    {
     "data": {
      "text/plain": [
       "array([[ 1.       ,  2.       ,  3.       ,  4.       ,  5.0000005,\n",
       "         6.       ,  7.       ,  8.       ,  9.       , 10.000001 ,\n",
       "        11.000001 , 12.       , 13.       , 14.       , 15.       ,\n",
       "        16.       , 17.       , 18.       , 19.       , 20.000002 ,\n",
       "        21.000002 , 22.000002 , 23.       , 24.       , 25.       ,\n",
       "        26.       , 27.       , 28.       , 29.       , 30.       ,\n",
       "        31.       , 32.       , 33.       , 34.       , 35.       ,\n",
       "        36.       , 37.       , 38.       , 39.       ],\n",
       "       [ 1.       ,  2.       ,  3.       ,  4.       ,  5.0000005,\n",
       "         6.       ,  7.       ,  8.       ,  9.       , 10.000001 ,\n",
       "        11.000001 , 12.       , 13.       , 14.       , 15.       ,\n",
       "        16.       , 17.       , 18.       , 19.       , 20.000002 ,\n",
       "        21.000002 , 22.000002 , 23.       , 24.       , 25.       ,\n",
       "        26.       , 27.       , 28.       , 29.       , 30.       ,\n",
       "        31.       , 32.       , 33.       , 34.       , 35.       ,\n",
       "        36.       , 37.       , 38.       , 39.       ]], dtype=float32)"
      ]
     },
     "execution_count": 120,
     "metadata": {},
     "output_type": "execute_result"
    }
   ],
   "source": [
    "xt*am.numpy()"
   ]
  },
  {
   "cell_type": "code",
   "execution_count": null,
   "id": "c3f08170-6db2-4a47-ba41-4fdef609283a",
   "metadata": {},
   "outputs": [],
   "source": []
  }
 ],
 "metadata": {
  "kernelspec": {
   "display_name": "Python 3 (ipykernel)",
   "language": "python",
   "name": "python3"
  },
  "language_info": {
   "codemirror_mode": {
    "name": "ipython",
    "version": 3
   },
   "file_extension": ".py",
   "mimetype": "text/x-python",
   "name": "python",
   "nbconvert_exporter": "python",
   "pygments_lexer": "ipython3",
   "version": "3.10.4"
  }
 },
 "nbformat": 4,
 "nbformat_minor": 5
}
